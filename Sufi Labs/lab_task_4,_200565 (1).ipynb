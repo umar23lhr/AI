{
  "nbformat": 4,
  "nbformat_minor": 0,
  "metadata": {
    "colab": {
      "provenance": []
    },
    "kernelspec": {
      "name": "python3",
      "display_name": "Python 3"
    },
    "language_info": {
      "name": "python"
    }
  },
  "cells": [
    {
      "cell_type": "code",
      "execution_count": null,
      "metadata": {
        "colab": {
          "base_uri": "https://localhost:8080/"
        },
        "id": "By3TmAq2aOW8",
        "outputId": "722a8582-7df1-4992-bd5c-9de45a1f7006"
      },
      "outputs": [
        {
          "output_type": "stream",
          "name": "stdout",
          "text": [
            "<class '__main__.person'>\n"
          ]
        }
      ],
      "source": [
        "class person:\n",
        " pass\n",
        "print(person)"
      ]
    },
    {
      "cell_type": "code",
      "source": [
        "ali=person()\n",
        "print(ali)"
      ],
      "metadata": {
        "colab": {
          "base_uri": "https://localhost:8080/"
        },
        "id": "6EuRUlUSgLbt",
        "outputId": "b5b3c395-e185-431b-afe9-db70a7e2e488"
      },
      "execution_count": null,
      "outputs": [
        {
          "output_type": "stream",
          "name": "stdout",
          "text": [
            "<__main__.person object at 0x7c9ebd92ece0>\n"
          ]
        }
      ]
    },
    {
      "cell_type": "code",
      "source": [
        "class student:\n",
        "  def learn(self):\n",
        "    print(\"welcome\")\n",
        "student_1=student()\n",
        "student_1.learn()"
      ],
      "metadata": {
        "colab": {
          "base_uri": "https://localhost:8080/"
        },
        "id": "hUNKfKDOgfgd",
        "outputId": "d884f1fc-9e1a-4c44-f5fb-e8a00fd51c8f"
      },
      "execution_count": null,
      "outputs": [
        {
          "output_type": "stream",
          "name": "stdout",
          "text": [
            "welcome\n"
          ]
        }
      ]
    },
    {
      "cell_type": "code",
      "source": [
        "class student:\n",
        "  def __init__(self,name):\n",
        "    self.name=name\n",
        "  def learn(self):\n",
        "    print(\"welcome\")\n",
        "student_1= student('ali')\n",
        "print(student_1.name)\n",
        "student_1.learn()"
      ],
      "metadata": {
        "colab": {
          "base_uri": "https://localhost:8080/"
        },
        "id": "ZvlWBxVzij-P",
        "outputId": "ebe2b291-5331-4f49-d561-78c52f3c8bf1"
      },
      "execution_count": null,
      "outputs": [
        {
          "output_type": "stream",
          "name": "stdout",
          "text": [
            "ali\n",
            "welcome\n"
          ]
        }
      ]
    },
    {
      "cell_type": "code",
      "source": [
        "class student:\n",
        "  def __init__(self,name,age,weight,height):\n",
        "    self.name=name\n",
        "    self.age=age\n",
        "    self.height=height\n",
        "    self.weight=weight\n",
        "  def info(self):\n",
        "    print('student name is',student_1.name)\n",
        "student_1=student('Moiz','21','63kgs','186cm')\n",
        "student_1.info()"
      ],
      "metadata": {
        "colab": {
          "base_uri": "https://localhost:8080/"
        },
        "id": "00f-soK_kc91",
        "outputId": "93fb504a-3631-45ad-d893-d1860412e677"
      },
      "execution_count": null,
      "outputs": [
        {
          "output_type": "stream",
          "name": "stdout",
          "text": [
            "student name is Moiz\n"
          ]
        }
      ]
    },
    {
      "cell_type": "code",
      "source": [
        "class student():\n",
        "  university=\"air university\"\n",
        "  def __init__(self, name, age, roll, address,university):\n",
        "    self.name = name\n",
        "    self.age = age\n",
        "    self.roll = roll\n",
        "    self.address = address\n",
        "  def info(self):\n",
        "    print(\"Name of student is\",self.name)\n",
        "    print(\"The age of student is\",self.age)\n",
        "    print(\"Roll number of student is\",self.roll)\n",
        "    print(\"Address of student is\",self.address)\n",
        "    print(\"he is the student of\",self.university)\n",
        "\n",
        "\n",
        "student_1 = student(\"Moiz\", 18, 1, \"123 Main Street\",\"air\")\n",
        "student_1.info()\n",
        "student_2 = student(\"Ali\", 22, 5, \"124 Main Street\",\"air\")\n",
        "student_2.info()\n",
        "student_1.roll=200519\n",
        "Student.university=\"nust\"\n",
        "student_1.info()\n",
        "student_2.info()"
      ],
      "metadata": {
        "id": "JNjoYaT3qQii",
        "colab": {
          "base_uri": "https://localhost:8080/",
          "height": 418
        },
        "outputId": "70a7351e-2660-480d-8b37-818224f30cc9"
      },
      "execution_count": 1,
      "outputs": [
        {
          "output_type": "stream",
          "name": "stdout",
          "text": [
            "Name of student is Moiz\n",
            "The age of student is 18\n",
            "Roll number of student is 1\n",
            "Address of student is 123 Main Street\n",
            "he is the student of air university\n",
            "Name of student is Ali\n",
            "The age of student is 22\n",
            "Roll number of student is 5\n",
            "Address of student is 124 Main Street\n",
            "he is the student of air university\n"
          ]
        },
        {
          "output_type": "error",
          "ename": "NameError",
          "evalue": "ignored",
          "traceback": [
            "\u001b[0;31m---------------------------------------------------------------------------\u001b[0m",
            "\u001b[0;31mNameError\u001b[0m                                 Traceback (most recent call last)",
            "\u001b[0;32m<ipython-input-1-b647024a5f0e>\u001b[0m in \u001b[0;36m<cell line: 21>\u001b[0;34m()\u001b[0m\n\u001b[1;32m     19\u001b[0m \u001b[0mstudent_2\u001b[0m\u001b[0;34m.\u001b[0m\u001b[0minfo\u001b[0m\u001b[0;34m(\u001b[0m\u001b[0;34m)\u001b[0m\u001b[0;34m\u001b[0m\u001b[0;34m\u001b[0m\u001b[0m\n\u001b[1;32m     20\u001b[0m \u001b[0mstudent_1\u001b[0m\u001b[0;34m.\u001b[0m\u001b[0mroll\u001b[0m\u001b[0;34m=\u001b[0m\u001b[0;36m200519\u001b[0m\u001b[0;34m\u001b[0m\u001b[0;34m\u001b[0m\u001b[0m\n\u001b[0;32m---> 21\u001b[0;31m \u001b[0mStudent\u001b[0m\u001b[0;34m.\u001b[0m\u001b[0muniversity\u001b[0m\u001b[0;34m=\u001b[0m\u001b[0;34m\"nust\"\u001b[0m\u001b[0;34m\u001b[0m\u001b[0;34m\u001b[0m\u001b[0m\n\u001b[0m\u001b[1;32m     22\u001b[0m \u001b[0mstudent_1\u001b[0m\u001b[0;34m.\u001b[0m\u001b[0minfo\u001b[0m\u001b[0;34m(\u001b[0m\u001b[0;34m)\u001b[0m\u001b[0;34m\u001b[0m\u001b[0;34m\u001b[0m\u001b[0m\n\u001b[1;32m     23\u001b[0m \u001b[0mstudent_2\u001b[0m\u001b[0;34m.\u001b[0m\u001b[0minfo\u001b[0m\u001b[0;34m(\u001b[0m\u001b[0;34m)\u001b[0m\u001b[0;34m\u001b[0m\u001b[0;34m\u001b[0m\u001b[0m\n",
            "\u001b[0;31mNameError\u001b[0m: name 'Student' is not defined"
          ]
        }
      ]
    },
    {
      "cell_type": "code",
      "source": [
        "class Student:\n",
        "  def __init__(self, name, age, roll, address):\n",
        "    self.name = name\n",
        "    self.age = age\n",
        "    self.roll = roll\n",
        "    self.address = address\n",
        "    self.skill=[]\n",
        "  def info(self):\n",
        "    print(\"Name of student\",self.name)\n",
        "    print(\"The age of student\",self.age)\n",
        "    print(\"Roll number of student\",self.roll)\n",
        "    print(\"Address of student\",self.address)\n",
        "  def add_skill(self,skill):\n",
        "   self.skill.append(skill)\n",
        "\n",
        "\n",
        "\n",
        "student_1 = Student(\"Moiz\", 18, 1, \"123 Main Street\")\n",
        "student_1.add_skill('python')\n",
        "student_1.add_skill('C++')\n",
        "print(student_1.skill)\n",
        "student_1.info()"
      ],
      "metadata": {
        "colab": {
          "base_uri": "https://localhost:8080/"
        },
        "id": "v7_kifkFjvNS",
        "outputId": "0228c9b6-4c18-4b08-ba32-cc260fd8f7c7"
      },
      "execution_count": 2,
      "outputs": [
        {
          "output_type": "stream",
          "name": "stdout",
          "text": [
            "['python', 'C++']\n",
            "Name of student Moiz\n",
            "The age of student 18\n",
            "Roll number of student 1\n",
            "Address of student 123 Main Street\n"
          ]
        }
      ]
    },
    {
      "cell_type": "code",
      "source": [
        "class banking:\n",
        "    def __init__(self, name, account_number, balance):\n",
        "        self.name = name\n",
        "        self.account_number = account_number\n",
        "        self.balance = balance\n",
        "\n",
        "    def info(self):\n",
        "        print(\"Name of student\",self.name)\n",
        "        print(\"Account number of student\",self.account_number)\n",
        "        print(\"Balance of student\",self.balance)\n",
        "\n",
        "    def deposit(self, amount):\n",
        "        self.balance += amount\n",
        "\n",
        "    def withdraw(self, amount):\n",
        "        if self.balance < amount:\n",
        "            print(\"Insufficient balance.\")\n",
        "        else:\n",
        "            self.balance -= amount\n",
        "\n",
        "bank_1 = banking(\"Moiz\",  1234567890, 9500)\n",
        "bank_1.info()\n",
        "\n",
        "bank_2 = banking(\"Ali\", 9876543210, 5500)\n",
        "bank_2.info()\n",
        "print(\"latest info\")\n",
        "\n",
        "bank_1.deposit(1000)\n",
        "bank_1.info()\n",
        "\n",
        "\n",
        "bank_2.withdraw(3000)\n",
        "bank_2.info()"
      ],
      "metadata": {
        "colab": {
          "base_uri": "https://localhost:8080/"
        },
        "id": "z64dCFUoj6LT",
        "outputId": "436d0d41-cff5-48a0-b87e-9457a506ef00"
      },
      "execution_count": 4,
      "outputs": [
        {
          "output_type": "stream",
          "name": "stdout",
          "text": [
            "Name of student Moiz\n",
            "Account number of student 1234567890\n",
            "Balance of student 9500\n",
            "Name of student Ali\n",
            "Account number of student 9876543210\n",
            "Balance of student 5500\n",
            "latest info\n",
            "Name of student Moiz\n",
            "Account number of student 1234567890\n",
            "Balance of student 10500\n",
            "Name of student Ali\n",
            "Account number of student 9876543210\n",
            "Balance of student 2500\n"
          ]
        }
      ]
    },
    {
      "cell_type": "code",
      "source": [
        "class Employee:\n",
        "    def __init__(self, name, employee_id):\n",
        "        self.name = name\n",
        "        self.employee_id = employee_id\n",
        "\n",
        "    def display_info(self):\n",
        "        print(f\"Employee: {self.name}, ID: {self.employee_id}\")\n",
        "\n",
        "\n",
        "class Manager:\n",
        "    def __init__(self, name, employee_id, team=None):\n",
        "        self.employee = Employee(name, employee_id)\n",
        "        self.team = team if team is not None else []\n",
        "\n",
        "    def display_info(self):\n",
        "        self.employee.display_info()\n",
        "        print(\"Manager of the following employees:\")\n",
        "        for member in self.team:\n",
        "            member.display_info()\n",
        "\n",
        "\n",
        "class Director:\n",
        "    def __init__(self, name, employee_id, department, team=None):\n",
        "        self.employee = Employee(name, employee_id)\n",
        "        self.department = department\n",
        "        self.team = team if team is not None else []\n",
        "\n",
        "    def display_info(self):\n",
        "        self.employee.display_info()\n",
        "        print(f\"Director of the {self.department} department.\")\n",
        "        print(\"Team members:\")\n",
        "        for member in self.team:\n",
        "            member.display_info()\n",
        "employee1 = Employee(\"John Doe\", 101)\n",
        "employee2 = Employee(\"Jane Doe\", 102)\n",
        "\n",
        "manager = Manager(\"Manager Smith\", 201, [employee1, employee2])\n",
        "\n",
        "director = Director(\"Director Johnson\", 301, \"Engineering\", [manager])\n",
        "\n",
        "employee1.display_info()\n",
        "employee2.display_info()\n",
        "\n",
        "print(\"\\n\")\n",
        "\n",
        "manager.display_info()\n",
        "\n",
        "print(\"\\n\")\n",
        "\n",
        "director.display_info()\n"
      ],
      "metadata": {
        "colab": {
          "base_uri": "https://localhost:8080/"
        },
        "id": "dadOl6tEkKfA",
        "outputId": "a4fe9431-b170-4e06-c61e-ef7cb9bc79a5"
      },
      "execution_count": 5,
      "outputs": [
        {
          "output_type": "stream",
          "name": "stdout",
          "text": [
            "Employee: John Doe, ID: 101\n",
            "Employee: Jane Doe, ID: 102\n",
            "\n",
            "\n",
            "Employee: Manager Smith, ID: 201\n",
            "Manager of the following employees:\n",
            "Employee: John Doe, ID: 101\n",
            "Employee: Jane Doe, ID: 102\n",
            "\n",
            "\n",
            "Employee: Director Johnson, ID: 301\n",
            "Director of the Engineering department.\n",
            "Team members:\n",
            "Employee: Manager Smith, ID: 201\n",
            "Manager of the following employees:\n",
            "Employee: John Doe, ID: 101\n",
            "Employee: Jane Doe, ID: 102\n"
          ]
        }
      ]
    },
    {
      "cell_type": "code",
      "source": [
        "class Question:\n",
        "    def __init__(self, text, choices, correct_choice):\n",
        "        self.text = text\n",
        "        self.choices = choices\n",
        "        self.correct_choice = correct_choice\n",
        "\n",
        "    def display(self):\n",
        "        print(self.text)\n",
        "        for i, choice in enumerate(self.choices, start=1):\n",
        "            print(f\"{i}. {choice}\")\n",
        "        print()\n",
        "\n",
        "    def check_answer(self, player_answer):\n",
        "        return player_answer.lower() == self.choices[self.correct_choice - 1].lower()\n",
        "\n",
        "\n",
        "class Quiz:\n",
        "    def __init__(self, questions):\n",
        "        self.questions = questions\n",
        "\n",
        "    def run_quiz(self, player):\n",
        "        print(\"Welcome to the Quiz!\")\n",
        "        score = 0\n",
        "\n",
        "        for question in self.questions:\n",
        "            question.display()\n",
        "            player_answer = player.get_answer()\n",
        "\n",
        "            if question.check_answer(player_answer):\n",
        "                print(\"Correct!\\n\")\n",
        "                score += 1\n",
        "            else:\n",
        "                print(\"Incorrect.\\n\")\n",
        "\n",
        "        print(f\"Quiz completed! Your score: {score}/{len(self.questions)}\")\n",
        "\n",
        "\n",
        "class Player:\n",
        "    def get_answer(self):\n",
        "        return input(\"Your answer: \").strip()\n",
        "\n",
        "\n",
        "# Example Usage:\n",
        "\n",
        "# Define Questions\n",
        "questions = [\n",
        "    Question(\"What is the capital of France?\", [\"Berlin\", \"Paris\", \"London\"], 2),\n",
        "    Question(\"Which planet is known as the Red Planet?\", [\"Venus\", \"Mars\", \"Jupiter\"], 2),\n",
        "    Question(\"What is the largest mammal?\", [\"Elephant\", \"Blue Whale\", \"Giraffe\"], 2),\n",
        "]\n",
        "\n",
        "# Create Quiz\n",
        "quiz = Quiz(questions)\n",
        "\n",
        "# Create Player\n",
        "player = Player()\n",
        "\n",
        "# Run Quiz\n",
        "quiz.run_quiz(player)\n"
      ],
      "metadata": {
        "colab": {
          "base_uri": "https://localhost:8080/"
        },
        "id": "4G2bkB6mkUdh",
        "outputId": "b45eac53-0314-4fb8-c772-9b0ce53ffe80"
      },
      "execution_count": 10,
      "outputs": [
        {
          "output_type": "stream",
          "name": "stdout",
          "text": [
            "Welcome to the Quiz!\n",
            "What is the capital of France?\n",
            "1. Berlin\n",
            "2. Paris\n",
            "3. London\n",
            "\n",
            "Your answer: Paris\n",
            "Correct!\n",
            "\n",
            "Which planet is known as the Red Planet?\n",
            "1. Venus\n",
            "2. Mars\n",
            "3. Jupiter\n",
            "\n",
            "Your answer: Mars\n",
            "Correct!\n",
            "\n",
            "What is the largest mammal?\n",
            "1. Elephant\n",
            "2. Blue Whale\n",
            "3. Giraffe\n",
            "\n",
            "Your answer: Elephant\n",
            "Incorrect.\n",
            "\n",
            "Quiz completed! Your score: 2/3\n"
          ]
        }
      ]
    },
    {
      "cell_type": "code",
      "source": [
        "class Address:\n",
        "    def __init__(self, street, city, state, zip_code):\n",
        "        self.street = street\n",
        "        self.city = city\n",
        "        self.state = state\n",
        "        self.zip_code = zip_code\n",
        "\n",
        "    def display_address(self):\n",
        "        return f\"{self.street}, {self.city}, {self.state} {self.zip_code}\"\n",
        "\n",
        "\n",
        "class PhoneNumber:\n",
        "    def __init__(self, number, type):\n",
        "        self.number = number\n",
        "        self.type = type\n",
        "\n",
        "    def display_phone_number(self):\n",
        "        return f\"{self.type}: {self.number}\"\n",
        "\n",
        "\n",
        "class Contact:\n",
        "    def __init__(self, name, address, phone_numbers):\n",
        "        self.name = name\n",
        "        self.address = address\n",
        "        self.phone_numbers = phone_numbers\n",
        "\n",
        "    def display_contact_info(self):\n",
        "        print(f\"Name: {self.name}\")\n",
        "        print(\"Address:\", self.address.display_address())\n",
        "        print(\"Phone Numbers:\")\n",
        "        for phone_number in self.phone_numbers:\n",
        "            print(phone_number.display_phone_number())\n",
        "\n",
        "\n",
        "# Example Usage:\n",
        "\n",
        "address = Address(\"123 Main St\", \"Cityville\", \"Stateville\", \"12345\")\n",
        "phone1 = PhoneNumber(\"555-1234\", \"Home\")\n",
        "phone2 = PhoneNumber(\"555-5678\", \"Work\")\n",
        "\n",
        "contact = Contact(\"John Doe\", address, [phone1, phone2])\n",
        "contact.display_contact_info()\n",
        "\n"
      ],
      "metadata": {
        "colab": {
          "base_uri": "https://localhost:8080/"
        },
        "id": "56575HdHlrHP",
        "outputId": "914c706e-4624-466e-fca3-21da5ae93e1c"
      },
      "execution_count": 11,
      "outputs": [
        {
          "output_type": "stream",
          "name": "stdout",
          "text": [
            "Name: John Doe\n",
            "Address: 123 Main St, Cityville, Stateville 12345\n",
            "Phone Numbers:\n",
            "Home: 555-1234\n",
            "Work: 555-5678\n"
          ]
        }
      ]
    },
    {
      "cell_type": "code",
      "source": [
        "class Passenger:\n",
        "    def __init__(self, name, age):\n",
        "        self.name = name\n",
        "        self.age = age\n",
        "\n",
        "    def display_passenger_info(self):\n",
        "        return f\"{self.name}, Age: {self.age}\"\n",
        "\n",
        "\n",
        "class Flight:\n",
        "    def __init__(self, flight_number, destination, departure_time):\n",
        "        self.flight_number = flight_number\n",
        "        self.destination = destination\n",
        "        self.departure_time = departure_time\n",
        "\n",
        "    def display_flight_info(self):\n",
        "        return f\"Flight {self.flight_number} to {self.destination}, Departure Time: {self.departure_time}\"\n",
        "\n",
        "\n",
        "class Ticket:\n",
        "    def __init__(self, passenger, flight, seat_number):\n",
        "        self.passenger = passenger\n",
        "        self.flight = flight\n",
        "        self.seat_number = seat_number\n",
        "\n",
        "    def display_ticket_info(self):\n",
        "        print(\"Ticket Information:\")\n",
        "        print(self.passenger.display_passenger_info())\n",
        "        print(self.flight.display_flight_info())\n",
        "        print(f\"Seat Number: {self.seat_number}\")\n",
        "\n",
        "\n",
        "# Example Usage:\n",
        "\n",
        "passenger = Passenger(\"Alice Smith\", 25)\n",
        "flight = Flight(\"F123\", \"New York\", \"12:00 PM\")\n",
        "\n",
        "ticket = Ticket(passenger, flight, \"23A\")\n",
        "ticket.display_ticket_info()\n",
        "\n"
      ],
      "metadata": {
        "colab": {
          "base_uri": "https://localhost:8080/"
        },
        "id": "1ER-URN-l2As",
        "outputId": "191af5f1-f93e-4a1c-f326-fa0283d719fa"
      },
      "execution_count": 12,
      "outputs": [
        {
          "output_type": "stream",
          "name": "stdout",
          "text": [
            "Ticket Information:\n",
            "Alice Smith, Age: 25\n",
            "Flight F123 to New York, Departure Time: 12:00 PM\n",
            "Seat Number: 23A\n"
          ]
        }
      ]
    }
  ]
}